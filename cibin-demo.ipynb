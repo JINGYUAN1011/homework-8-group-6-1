{
 "cells": [
  {
   "cell_type": "code",
   "execution_count": 1,
   "metadata": {},
   "outputs": [],
   "source": [
    "from cibin.utils import *"
   ]
  },
  {
   "cell_type": "markdown",
   "metadata": {},
   "source": [
    "Reproducing Li and Ding column 3 with exact = True"
   ]
  },
  {
   "cell_type": "code",
   "execution_count": 2,
   "metadata": {},
   "outputs": [
    {
     "data": {
      "text/plain": [
       "([-1, 14], [[1, 0, 1, 14], [1, 14, 0, 1]], [120, 103])"
      ]
     },
     "execution_count": 2,
     "metadata": {},
     "output_type": "execute_result"
    }
   ],
   "source": [
    "tau_twosided_ci(1, 1, 1, 13, 0.05, True, 120, 1)"
   ]
  },
  {
   "cell_type": "code",
   "execution_count": 3,
   "metadata": {},
   "outputs": [
    {
     "data": {
      "text/plain": [
       "([-14, -5], [[2, 0, 14, 0], [8, 0, 5, 3]], [12870, 113])"
      ]
     },
     "execution_count": 3,
     "metadata": {},
     "output_type": "execute_result"
    }
   ],
   "source": [
    "tau_twosided_ci(2, 6, 8, 0, 0.05, True, 12870, 1)"
   ]
  },
  {
   "cell_type": "code",
   "execution_count": 4,
   "metadata": {},
   "outputs": [
    {
     "data": {
      "text/plain": [
       "([-4, 8], [[13, 0, 4, 3], [11, 8, 0, 1]], [38760, 283])"
      ]
     },
     "execution_count": 4,
     "metadata": {},
     "output_type": "execute_result"
    }
   ],
   "source": [
    "tau_twosided_ci(6, 0, 11, 3, 0.05, True, 38760, 1)"
   ]
  },
  {
   "cell_type": "code",
   "execution_count": 5,
   "metadata": {},
   "outputs": [
    {
     "data": {
      "text/plain": [
       "([-4, 10], [[5, 1, 5, 9], [5, 11, 1, 3]], [184756, 308])"
      ]
     },
     "execution_count": 5,
     "metadata": {},
     "output_type": "execute_result"
    }
   ],
   "source": [
    "tau_twosided_ci(6, 4, 4, 6, 0.05, True, 184756, 1)"
   ]
  },
  {
   "cell_type": "code",
   "execution_count": 6,
   "metadata": {},
   "outputs": [
    {
     "data": {
      "text/plain": [
       "([-3, 20], [[1, 0, 3, 20], [3, 20, 0, 1]], [276, 251])"
      ]
     },
     "execution_count": 6,
     "metadata": {},
     "output_type": "execute_result"
    }
   ],
   "source": [
    "tau_twosided_ci(1, 1, 3, 19, 0.05, True, 276, 1)"
   ]
  },
  {
   "cell_type": "markdown",
   "metadata": {},
   "source": [
    "Reproducing Li and Ding column 3 with exact = False"
   ]
  },
  {
   "cell_type": "code",
   "execution_count": 7,
   "metadata": {},
   "outputs": [
    {
     "data": {
      "text/plain": [
       "([-1, 14], [[1, 0, 1, 14], [1, 14, 0, 1]], [5000, 103])"
      ]
     },
     "execution_count": 7,
     "metadata": {},
     "output_type": "execute_result"
    }
   ],
   "source": [
    "tau_twosided_ci(1, 1, 1, 13, 0.05, False, 1, 5000)"
   ]
  },
  {
   "cell_type": "code",
   "execution_count": 8,
   "metadata": {},
   "outputs": [
    {
     "data": {
      "text/plain": [
       "([-14, -5], [[2, 0, 14, 0], [8, 0, 5, 3]], [5000, 113])"
      ]
     },
     "execution_count": 8,
     "metadata": {},
     "output_type": "execute_result"
    }
   ],
   "source": [
    "tau_twosided_ci(2, 6, 8, 0, 0.05, False, 1, 5000)"
   ]
  },
  {
   "cell_type": "code",
   "execution_count": 9,
   "metadata": {},
   "outputs": [
    {
     "data": {
      "text/plain": [
       "([-4, 8], [[13, 0, 4, 3], [11, 8, 0, 1]], [5000, 283])"
      ]
     },
     "execution_count": 9,
     "metadata": {},
     "output_type": "execute_result"
    }
   ],
   "source": [
    "tau_twosided_ci(6, 0, 11, 3, 0.05, False, 1, 5000)"
   ]
  },
  {
   "cell_type": "code",
   "execution_count": 10,
   "metadata": {},
   "outputs": [
    {
     "data": {
      "text/plain": [
       "([-4, 10], [[5, 1, 5, 9], [5, 11, 1, 3]], [5000, 308])"
      ]
     },
     "execution_count": 10,
     "metadata": {},
     "output_type": "execute_result"
    }
   ],
   "source": [
    "tau_twosided_ci(6, 4, 4, 6, 0.05, False, 1, 5000)"
   ]
  },
  {
   "cell_type": "code",
   "execution_count": 11,
   "metadata": {},
   "outputs": [
    {
     "data": {
      "text/plain": [
       "([-3, 20], [[1, 0, 3, 20], [3, 20, 0, 1]], [5000, 251])"
      ]
     },
     "execution_count": 11,
     "metadata": {},
     "output_type": "execute_result"
    }
   ],
   "source": [
    "tau_twosided_ci(1, 1, 3, 19, 0.05, False, 1, 5000)"
   ]
  },
  {
   "cell_type": "code",
   "execution_count": 12,
   "metadata": {},
   "outputs": [
    {
     "data": {
      "text/plain": [
       "([-3, 13], [[8, 1, 4, 11], [7, 13, 0, 4]], [5000, 421])"
      ]
     },
     "execution_count": 12,
     "metadata": {},
     "output_type": "execute_result"
    }
   ],
   "source": [
    "tau_twosided_ci(8, 4, 5, 7, 0.05, False, 1, 5000)"
   ]
  },
  {
   "cell_type": "markdown",
   "metadata": {},
   "source": [
    "unit tests, pep8, and pep257"
   ]
  },
  {
   "cell_type": "code",
   "execution_count": 13,
   "metadata": {},
   "outputs": [
    {
     "name": "stdout",
     "output_type": "stream",
     "text": [
      "============================= test session starts ==============================\n",
      "platform linux -- Python 3.8.8, pytest-6.2.3, py-1.10.0, pluggy-0.13.1\n",
      "rootdir: /home/jovyan/hw8-group6\n",
      "plugins: cov-2.11.1, anyio-2.2.0\n",
      "collected 19 items\n",
      "\n",
      "cibin/tests/test_utils.py ...................                            [100%]\n",
      "\n",
      "======================== 19 passed in 181.05s (0:03:01) ========================\n"
     ]
    }
   ],
   "source": [
    "%%bash\n",
    "pytest cibin"
   ]
  },
  {
   "cell_type": "code",
   "execution_count": 14,
   "metadata": {},
   "outputs": [],
   "source": [
    "%%bash\n",
    "pycodestyle cibin/utils.py"
   ]
  },
  {
   "cell_type": "code",
   "execution_count": 15,
   "metadata": {},
   "outputs": [],
   "source": [
    "%%bash\n",
    "pep257 cibin/utils.py"
   ]
  },
  {
   "cell_type": "code",
   "execution_count": 16,
   "metadata": {},
   "outputs": [],
   "source": [
    "%%bash\n",
    "pycodestyle cibin/tests/test_utils.py"
   ]
  },
  {
   "cell_type": "code",
   "execution_count": 17,
   "metadata": {},
   "outputs": [],
   "source": [
    "%%bash\n",
    "pep257 cibin/tests/test_utils.py"
   ]
  }
 ],
 "metadata": {
  "kernelspec": {
   "display_name": "Python 3",
   "language": "python",
   "name": "python3"
  },
  "language_info": {
   "codemirror_mode": {
    "name": "ipython",
    "version": 3
   },
   "file_extension": ".py",
   "mimetype": "text/x-python",
   "name": "python",
   "nbconvert_exporter": "python",
   "pygments_lexer": "ipython3",
   "version": "3.8.8"
  }
 },
 "nbformat": 4,
 "nbformat_minor": 4
}
